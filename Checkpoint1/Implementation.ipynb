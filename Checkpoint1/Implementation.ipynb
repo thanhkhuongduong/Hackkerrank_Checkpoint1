{
 "cells": [
  {
   "cell_type": "markdown",
   "metadata": {},
   "source": [
    "### Grading"
   ]
  },
  {
   "cell_type": "code",
   "execution_count": 7,
   "metadata": {},
   "outputs": [
    {
     "name": "stdin",
     "output_type": "stream",
     "text": [
      " 2\n",
      " 32\n",
      " 48\n"
     ]
    },
    {
     "data": {
      "text/plain": [
       "[32, 50]"
      ]
     },
     "execution_count": 7,
     "metadata": {},
     "output_type": "execute_result"
    }
   ],
   "source": [
    "import math\n",
    "import os\n",
    "import random\n",
    "import re\n",
    "import sys\n",
    "\n",
    "grades_count = int(input().strip())\n",
    "grades = []\n",
    "for _ in range(grades_count):\n",
    "    grades_item = int(input().strip())\n",
    "    grades.append(grades_item)\n",
    "\n",
    "def gradingStudents(grades):\n",
    "    for i in range(len(grades)):\n",
    "        if grades[i]>=38:\n",
    "            if grades[i]%10 in [3,4]:\n",
    "                grades[i] = (grades[i]-(grades[i]%10)+5)\n",
    "            elif grades[i]%10 in [8,9]:\n",
    "                grades[i] = (grades[i]-(grades[i]%10)+10)\n",
    "            else:\n",
    "                grades[i] = grades[i]\n",
    "        else:\n",
    "            grades[i] = grades[i]\n",
    "    return grades\n",
    "    \n",
    "gradingStudents(grades)"
   ]
  },
  {
   "cell_type": "markdown",
   "metadata": {},
   "source": [
    "### Apple & Orange"
   ]
  },
  {
   "cell_type": "code",
   "execution_count": 23,
   "metadata": {},
   "outputs": [
    {
     "name": "stdin",
     "output_type": "stream",
     "text": [
      " 7 11\n",
      " 5 15\n",
      " 3 2\n",
      " -2 2 1\n",
      " 5 -6\n"
     ]
    },
    {
     "data": {
      "text/plain": [
       "(1, 1)"
      ]
     },
     "execution_count": 23,
     "metadata": {},
     "output_type": "execute_result"
    }
   ],
   "source": [
    "#!/bin/python3\n",
    "\n",
    "import math\n",
    "import os\n",
    "import random\n",
    "import re\n",
    "import sys\n",
    "\n",
    "st = input().split()\n",
    "\n",
    "s = int(st[0])\n",
    "\n",
    "t = int(st[1])\n",
    "\n",
    "ab = input().split()\n",
    "\n",
    "a = int(ab[0])\n",
    "\n",
    "b = int(ab[1])\n",
    "\n",
    "mn = input().split()\n",
    "\n",
    "m = int(mn[0])\n",
    "\n",
    "n = int(mn[1])\n",
    "\n",
    "apples = list(map(int, input().rstrip().split()))\n",
    "\n",
    "oranges = list(map(int, input().rstrip().split()))\n",
    "\n",
    "# Complete the countApplesAndOranges function below.\n",
    "def countApplesAndOranges(s, t, a, b, apples, oranges):\n",
    "\n",
    "    a_list = [i+a for i in apples]\n",
    "    o_list = [i+b for i in oranges]\n",
    "    \n",
    "    c1 = 0\n",
    "    c2 = 0\n",
    "    for i in a_list:\n",
    "        if s<=i<=t:\n",
    "            c1+=1\n",
    "    for i in o_list:\n",
    "        if s<=i<=t:\n",
    "            c2+=1  \n",
    "            \n",
    "    return c1,c2\n",
    "    \n",
    "countApplesAndOranges(s, t, a, b, apples, oranges)"
   ]
  },
  {
   "cell_type": "code",
   "execution_count": 19,
   "metadata": {},
   "outputs": [],
   "source": [
    "a = [0,2,3,5]\n",
    "a_list = [i+4 for i in a]"
   ]
  },
  {
   "cell_type": "code",
   "execution_count": 20,
   "metadata": {},
   "outputs": [
    {
     "data": {
      "text/plain": [
       "[4, 6, 7, 9]"
      ]
     },
     "execution_count": 20,
     "metadata": {},
     "output_type": "execute_result"
    }
   ],
   "source": [
    "a_list"
   ]
  },
  {
   "cell_type": "code",
   "execution_count": 14,
   "metadata": {},
   "outputs": [],
   "source": [
    "s = [i+k for (i,k) in zip(a,b)]"
   ]
  },
  {
   "cell_type": "code",
   "execution_count": 15,
   "metadata": {},
   "outputs": [
    {
     "data": {
      "text/plain": [
       "[9, 8, 9]"
      ]
     },
     "execution_count": 15,
     "metadata": {},
     "output_type": "execute_result"
    }
   ],
   "source": [
    "s"
   ]
  },
  {
   "cell_type": "markdown",
   "metadata": {},
   "source": [
    "### Breaking the records"
   ]
  },
  {
   "cell_type": "code",
   "execution_count": 30,
   "metadata": {},
   "outputs": [
    {
     "name": "stdin",
     "output_type": "stream",
     "text": [
      " 3\n",
      " 2 3 1\n"
     ]
    },
    {
     "data": {
      "text/plain": [
       "(1, 1)"
      ]
     },
     "execution_count": 30,
     "metadata": {},
     "output_type": "execute_result"
    }
   ],
   "source": [
    "### import math\n",
    "import os\n",
    "import random\n",
    "import re\n",
    "import sys\n",
    "\n",
    "n = int(input())\n",
    "scores = list(map(int, input().rstrip().split()))\n",
    "# Complete the breakingRecords function below.\n",
    "\n",
    "def breakingRecords(scores):\n",
    "    \n",
    "    max_record = scores[0]\n",
    "    min_record = scores[0]\n",
    "    count_max = 0\n",
    "    count_min = 0\n",
    "    for i in scores:\n",
    "        if i>max_record:\n",
    "            max_record = i\n",
    "            count_max +=1\n",
    "        elif i<min_record:\n",
    "            min_record = i\n",
    "            count_min +=1           \n",
    "        else:\n",
    "            max_record = max_record\n",
    "            min_record = min_record\n",
    "                \n",
    "    return count_max, count_min\n",
    "\n",
    "    \n",
    "breakingRecords(scores)"
   ]
  },
  {
   "cell_type": "code",
   "execution_count": 56,
   "metadata": {},
   "outputs": [
    {
     "name": "stdin",
     "output_type": "stream",
     "text": [
      " 6 3\n",
      " 1 3 2 6 1 2\n"
     ]
    },
    {
     "data": {
      "text/plain": [
       "5"
      ]
     },
     "execution_count": 56,
     "metadata": {},
     "output_type": "execute_result"
    }
   ],
   "source": [
    "import math\n",
    "import os\n",
    "import random\n",
    "import re\n",
    "import sys\n",
    "\n",
    "\n",
    "nk = input().split()\n",
    "\n",
    "n = int(nk[0])\n",
    "\n",
    "k = int(nk[1])\n",
    "\n",
    "ar = list(map(int, input().rstrip().split()))\n",
    "\n",
    "# Complete the divisibleSumPairs function below.\n",
    "def divisibleSumPairs(n, k, ar):\n",
    "    i = 1\n",
    "    count = 0\n",
    "    while i <= (len(ar)):\n",
    "        l= 1\n",
    "        while l <= (len(ar)):\n",
    "            if l!=i and i<l: #reduce the reverse pairs\n",
    "                s = ar[i-1]+ar[l-1]\n",
    "                if s%k == 0:\n",
    "                    count+=1\n",
    "            l+=1\n",
    "        i+=1\n",
    "    return count\n",
    "\n",
    "divisibleSumPairs(n, k, ar)"
   ]
  },
  {
   "cell_type": "markdown",
   "metadata": {},
   "source": [
    "#### Share bill"
   ]
  },
  {
   "cell_type": "code",
   "execution_count": 57,
   "metadata": {},
   "outputs": [
    {
     "name": "stdin",
     "output_type": "stream",
     "text": [
      " 4 1\n",
      " 3 10 2 9\n",
      " 7\n"
     ]
    },
    {
     "data": {
      "text/plain": [
       "'Bon Appetit'"
      ]
     },
     "execution_count": 57,
     "metadata": {},
     "output_type": "execute_result"
    }
   ],
   "source": [
    "import math\n",
    "import os\n",
    "import random\n",
    "import re\n",
    "import sys\n",
    "\n",
    "nk = input().rstrip().split()\n",
    "\n",
    "n = int(nk[0])\n",
    "\n",
    "k = int(nk[1])\n",
    "\n",
    "bill = list(map(int, input().rstrip().split()))\n",
    "\n",
    "b = int(input().strip())\n",
    "\n",
    "def bonAppetit(bill, k, b):\n",
    "    \n",
    "    c=0\n",
    "    for i in range(len(bill)):\n",
    "        if k!=i:\n",
    "            c += bill[i]\n",
    "    if int(c/2) == b:\n",
    "        return 'Bon Appetit'\n",
    "    else:\n",
    "        return b - int(c/2)\n",
    "    \n",
    "bonAppetit(bill, k, b)"
   ]
  },
  {
   "cell_type": "markdown",
   "metadata": {},
   "source": [
    "### Sub Array"
   ]
  },
  {
   "cell_type": "code",
   "execution_count": 59,
   "metadata": {},
   "outputs": [
    {
     "name": "stdin",
     "output_type": "stream",
     "text": [
      " 5\n",
      " 1 2 1 3 2 \n",
      " 3 2\n"
     ]
    },
    {
     "data": {
      "text/plain": [
       "0"
      ]
     },
     "execution_count": 59,
     "metadata": {},
     "output_type": "execute_result"
    }
   ],
   "source": [
    "import math\n",
    "import os\n",
    "import random\n",
    "import re\n",
    "import sys\n",
    "\n",
    "n = int(input().strip())\n",
    "\n",
    "s = list(map(int, input().rstrip().split()))\n",
    "\n",
    "dm = input().rstrip().split()\n",
    "\n",
    "d = int(dm[0])\n",
    "\n",
    "m = int(dm[1])\n",
    "\n",
    "def birthday(s, d, m):\n",
    "    \n",
    "    c = 0\n",
    "    for i in range(len(s)-m-1):\n",
    "        if sum(s[i:(i+m-1)]) == d:\n",
    "            c+=1\n",
    "    return c\n",
    "\n",
    "birthday(s, d, m)"
   ]
  },
  {
   "cell_type": "markdown",
   "metadata": {},
   "source": [
    "### Bird sighting"
   ]
  },
  {
   "cell_type": "code",
   "execution_count": 33,
   "metadata": {},
   "outputs": [
    {
     "name": "stdin",
     "output_type": "stream",
     "text": [
      " 8\n",
      " 1 4 4 3 5 3 3 3\n"
     ]
    },
    {
     "data": {
      "text/plain": [
       "[0, 1, 0, 4, 2, 1]"
      ]
     },
     "execution_count": 33,
     "metadata": {},
     "output_type": "execute_result"
    }
   ],
   "source": [
    "import math\n",
    "import os\n",
    "import random\n",
    "import re\n",
    "import sys\n",
    "\n",
    "arr_count = int(input().strip())\n",
    "arr = list(map(int, input().rstrip().split()))\n",
    "\n",
    "def migratoryBirds(arr):\n",
    "    bird_freq = [0, 0, 0, 0, 0, 0]\n",
    "    for i in range(len(arr)):\n",
    "        bird_freq[arr[i]] += 1\n",
    "    return bird_freq.index(max(bird_freq))\n",
    "        \n",
    "migratoryBirds(arr)"
   ]
  },
  {
   "cell_type": "markdown",
   "metadata": {},
   "source": [
    "### Cats and a mouse"
   ]
  },
  {
   "cell_type": "code",
   "execution_count": 38,
   "metadata": {},
   "outputs": [
    {
     "name": "stdin",
     "output_type": "stream",
     "text": [
      " 2\n",
      " 1 2 3\n",
      " 1 3 2\n"
     ]
    }
   ],
   "source": [
    "import math\n",
    "import os\n",
    "import random\n",
    "import re\n",
    "import sys\n",
    "\n",
    "q = int(input())\n",
    "for q_itr in range(q):\n",
    "    xyz = input().split()\n",
    "    x = int(xyz[0])\n",
    "    y = int(xyz[1])\n",
    "    z = int(xyz[2])\n",
    "\n",
    "def catAndMouse(x, y, z):\n",
    "    if abs(x-z) < abs(y-z):\n",
    "        return 'Cat A'\n",
    "    elif abs(x-z) > abs(y-z):\n",
    "        return 'Cat B'\n",
    "    else:\n",
    "        return 'Mouse C'\n",
    "\n",
    "catAndMouse(x, y, z)"
   ]
  },
  {
   "cell_type": "markdown",
   "metadata": {},
   "source": [
    "### Designer PDF Viewer"
   ]
  },
  {
   "cell_type": "code",
   "execution_count": 51,
   "metadata": {},
   "outputs": [
    {
     "name": "stdin",
     "output_type": "stream",
     "text": [
      " 1 3 1 3 1 4 1 3 2 5 5 5 5 5 5 5 5 5 5 5 5 5 5 5 5 7\n",
      " zaba\n"
     ]
    },
    {
     "data": {
      "text/plain": [
       "28"
      ]
     },
     "execution_count": 51,
     "metadata": {},
     "output_type": "execute_result"
    }
   ],
   "source": [
    "import math\n",
    "import os\n",
    "import random\n",
    "import re\n",
    "import sys\n",
    "\n",
    "h = list(map(int, input().rstrip().split()))\n",
    "word = input()\n",
    "\n",
    "def designerPdfViewer(h, word):\n",
    "    string = 'abcdefghijklmnopqrstuvwxyz'\n",
    "    height = 0\n",
    "    for i in range(len(word)):\n",
    "        if h[string.index(word[i])]>height: #take the position (index) from string to get height value\n",
    "            height = h[string.index(word[i])]\n",
    "    return height*len(word)\n",
    "\n",
    "designerPdfViewer(h, word)"
   ]
  },
  {
   "cell_type": "code",
   "execution_count": 45,
   "metadata": {},
   "outputs": [
    {
     "data": {
      "text/plain": [
       "2"
      ]
     },
     "execution_count": 45,
     "metadata": {},
     "output_type": "execute_result"
    }
   ],
   "source": [
    "string = 'abcdefghijklmnopqrstuvwxyz'\n",
    "string.index('c')"
   ]
  },
  {
   "cell_type": "markdown",
   "metadata": {},
   "source": [
    "### The Hurdle Race"
   ]
  },
  {
   "cell_type": "code",
   "execution_count": 53,
   "metadata": {},
   "outputs": [
    {
     "name": "stdin",
     "output_type": "stream",
     "text": [
      " 5 4\n",
      " 1 6 3 5 2\n"
     ]
    },
    {
     "data": {
      "text/plain": [
       "2"
      ]
     },
     "execution_count": 53,
     "metadata": {},
     "output_type": "execute_result"
    }
   ],
   "source": [
    "import math\n",
    "import os\n",
    "import random\n",
    "import re\n",
    "import sys\n",
    "\n",
    "nk = input().split()\n",
    "n = int(nk[0])\n",
    "k = int(nk[1])\n",
    "height = list(map(int, input().rstrip().split()))\n",
    "\n",
    "def hurdleRace(k, height):\n",
    "    if k<max(height):\n",
    "        return max(height)-k\n",
    "    else:\n",
    "        return 0\n",
    "\n",
    "hurdleRace(k, height)"
   ]
  },
  {
   "cell_type": "markdown",
   "metadata": {},
   "source": [
    "#### Utopian Tree"
   ]
  },
  {
   "cell_type": "code",
   "execution_count": 70,
   "metadata": {},
   "outputs": [
    {
     "name": "stdin",
     "output_type": "stream",
     "text": [
      " 0\n"
     ]
    },
    {
     "data": {
      "text/plain": [
       "1"
      ]
     },
     "execution_count": 70,
     "metadata": {},
     "output_type": "execute_result"
    }
   ],
   "source": [
    "import math\n",
    "import os\n",
    "import random\n",
    "import re\n",
    "import sys\n",
    "\n",
    "n = int(input())\n",
    "\n",
    "def utopianTree(n):\n",
    "    h = 0\n",
    "    for i in range(n+1):\n",
    "        if i%2==0:\n",
    "            h+=1\n",
    "        else:\n",
    "            h*=2\n",
    "    return h\n",
    "\n",
    "utopianTree(n)"
   ]
  },
  {
   "cell_type": "code",
   "execution_count": 58,
   "metadata": {},
   "outputs": [
    {
     "data": {
      "text/plain": [
       "range(0, 0)"
      ]
     },
     "execution_count": 58,
     "metadata": {},
     "output_type": "execute_result"
    }
   ],
   "source": [
    "range(0)"
   ]
  },
  {
   "cell_type": "code",
   "execution_count": 59,
   "metadata": {},
   "outputs": [
    {
     "data": {
      "text/plain": [
       "0"
      ]
     },
     "execution_count": 59,
     "metadata": {},
     "output_type": "execute_result"
    }
   ],
   "source": [
    "0%2"
   ]
  },
  {
   "cell_type": "code",
   "execution_count": 72,
   "metadata": {},
   "outputs": [
    {
     "data": {
      "text/plain": [
       "range(0, 5)"
      ]
     },
     "execution_count": 72,
     "metadata": {},
     "output_type": "execute_result"
    }
   ],
   "source": [
    "range(5)"
   ]
  },
  {
   "cell_type": "markdown",
   "metadata": {},
   "source": [
    "#### Angry Professor"
   ]
  },
  {
   "cell_type": "code",
   "execution_count": 74,
   "metadata": {},
   "outputs": [
    {
     "name": "stdin",
     "output_type": "stream",
     "text": [
      " 4 2\n",
      " 0 -1 2 1\n"
     ]
    },
    {
     "data": {
      "text/plain": [
       "'NO'"
      ]
     },
     "execution_count": 74,
     "metadata": {},
     "output_type": "execute_result"
    }
   ],
   "source": [
    "import math\n",
    "import os\n",
    "import random\n",
    "import re\n",
    "import sys\n",
    "\n",
    "nk = input().split()\n",
    "n = int(nk[0])\n",
    "k = int(nk[1])\n",
    "a = list(map(int, input().rstrip().split()))\n",
    "\n",
    "def angryProfessor(k, a):\n",
    "    c = 0 \n",
    "    for i in a:\n",
    "        if i<=0:\n",
    "            c+=1\n",
    "    if c<k:\n",
    "        return 'YES'\n",
    "    else:\n",
    "        return 'NO'\n",
    "\n",
    "angryProfessor(k, a)"
   ]
  },
  {
   "cell_type": "markdown",
   "metadata": {},
   "source": [
    "#### The Time in Words"
   ]
  },
  {
   "cell_type": "code",
   "execution_count": 81,
   "metadata": {},
   "outputs": [
    {
     "name": "stdin",
     "output_type": "stream",
     "text": [
      " 5\n",
      " 47\n"
     ]
    },
    {
     "data": {
      "text/plain": [
       "'thirteen minutes to six'"
      ]
     },
     "execution_count": 81,
     "metadata": {},
     "output_type": "execute_result"
    }
   ],
   "source": [
    "import math\n",
    "import os\n",
    "import random\n",
    "import re\n",
    "import sys\n",
    "\n",
    "h = int(input())\n",
    "m = int(input())\n",
    "\n",
    "def timeInWords(h, m):\n",
    "    \n",
    "    num_list = [\"\", \"one\", \"two\", \"three\", \"four\", \n",
    "            \"five\", \"six\", \"seven\", \"eight\", \"nine\", \n",
    "            \"ten\", \"eleven\", \"twelve\", \"thirteen\", \n",
    "            \"fourteen\", \"fifteen\", \"sixteen\",  \n",
    "            \"seventeen\", \"eighteen\", \"nineteen\",  \n",
    "            \"twenty\", \"twenty one\", \"twenty two\",  \n",
    "            \"twenty three\", \"twenty four\",  \n",
    "            \"twenty five\", \"twenty six\", \"twenty seven\", \n",
    "            \"twenty eight\", \"twenty nine\"]\n",
    "    \n",
    "    if m is 0:\n",
    "        return(num_list[h]+ \" o' clock\")\n",
    "    if m is 1:\n",
    "        return(num_list[m]+' minute past '+num_list[h])\n",
    "    if 2<=m<30 and m is not 15:\n",
    "        return(num_list[m]+' minutes past '+num_list[h])\n",
    "    if m is 15:\n",
    "        return('quarter past ' +num_list[h])\n",
    "    if m is 30:\n",
    "        return('half past ' +num_list[h])    \n",
    "    if m>30 and m is not 45:\n",
    "        return(num_list[60-m]+' minutes to '+num_list[h+1])\n",
    "    if m is 45:\n",
    "        return('quarter to ' +num_list[h+1])\n",
    "        \n",
    "\n",
    "timeInWords(h, m)"
   ]
  },
  {
   "cell_type": "code",
   "execution_count": 82,
   "metadata": {},
   "outputs": [
    {
     "data": {
      "text/plain": [
       "240"
      ]
     },
     "execution_count": 82,
     "metadata": {},
     "output_type": "execute_result"
    }
   ],
   "source": [
    "189^77"
   ]
  },
  {
   "cell_type": "code",
   "execution_count": 121,
   "metadata": {},
   "outputs": [
    {
     "data": {
      "text/plain": [
       "2"
      ]
     },
     "execution_count": 121,
     "metadata": {},
     "output_type": "execute_result"
    }
   ],
   "source": [
    "(pow(12,10)) % 23"
   ]
  },
  {
   "cell_type": "code",
   "execution_count": 101,
   "metadata": {},
   "outputs": [
    {
     "data": {
      "text/plain": [
       "171"
      ]
     },
     "execution_count": 101,
     "metadata": {},
     "output_type": "execute_result"
    }
   ],
   "source": [
    "45800%443"
   ]
  },
  {
   "cell_type": "code",
   "execution_count": 113,
   "metadata": {},
   "outputs": [
    {
     "data": {
      "text/plain": [
       "1.0903426791277258"
      ]
     },
     "execution_count": 113,
     "metadata": {},
     "output_type": "execute_result"
    }
   ],
   "source": [
    "(3*pow(14))"
   ]
  },
  {
   "cell_type": "code",
   "execution_count": 111,
   "metadata": {},
   "outputs": [
    {
     "data": {
      "text/plain": [
       "200"
      ]
     },
     "execution_count": 111,
     "metadata": {},
     "output_type": "execute_result"
    }
   ],
   "source": [
    "200%443"
   ]
  },
  {
   "cell_type": "markdown",
   "metadata": {},
   "source": [
    "#### Minimum distance"
   ]
  },
  {
   "cell_type": "code",
   "execution_count": null,
   "metadata": {},
   "outputs": [],
   "source": [
    "import math\n",
    "import os\n",
    "import random\n",
    "import re\n",
    "import sys\n",
    "\n",
    "n = int(input())\n",
    "a = list(map(int, input().rstrip().split()))\n",
    "\n",
    "def minimumDistances(a):\n",
    "    for i in range(len(a)):\n",
    "        if i\n",
    "\n",
    "minimumDistances(a)"
   ]
  },
  {
   "cell_type": "markdown",
   "metadata": {},
   "source": [
    "#### Electronic shop"
   ]
  },
  {
   "cell_type": "code",
   "execution_count": 123,
   "metadata": {},
   "outputs": [
    {
     "name": "stdin",
     "output_type": "stream",
     "text": [
      " 60 3 3\n",
      " 40 50 60\n",
      " 5 8 12\n"
     ]
    },
    {
     "data": {
      "text/plain": [
       "58"
      ]
     },
     "execution_count": 123,
     "metadata": {},
     "output_type": "execute_result"
    }
   ],
   "source": [
    "import os\n",
    "import sys\n",
    "\n",
    "bnm = input().split()\n",
    "b = int(bnm[0])\n",
    "n = int(bnm[1])\n",
    "m = int(bnm[2])\n",
    "keyboards = list(map(int, input().rstrip().split()))\n",
    "drives = list(map(int, input().rstrip().split()))\n",
    "\n",
    "def getMoneySpent(keyboards, drives, b):\n",
    "    cost = 0\n",
    "    for i in range(len(keyboards)):\n",
    "        for j in range(len(drives)):\n",
    "            if cost<= keyboards[i]+drives[j] <= b:\n",
    "                cost = keyboards[i]+drives[j]\n",
    "    if cost is not 0:\n",
    "        return cost\n",
    "    else:\n",
    "        return -1\n",
    "\n",
    "getMoneySpent(keyboards, drives, b)"
   ]
  },
  {
   "cell_type": "markdown",
   "metadata": {},
   "source": [
    "#### Beautiful days"
   ]
  },
  {
   "cell_type": "code",
   "execution_count": 130,
   "metadata": {},
   "outputs": [
    {
     "name": "stdin",
     "output_type": "stream",
     "text": [
      " 20 23 6\n"
     ]
    },
    {
     "data": {
      "text/plain": [
       "2"
      ]
     },
     "execution_count": 130,
     "metadata": {},
     "output_type": "execute_result"
    }
   ],
   "source": [
    "import math\n",
    "import os\n",
    "import random\n",
    "import re\n",
    "import sys\n",
    "\n",
    "ijk = input().split()\n",
    "i = int(ijk[0])\n",
    "j = int(ijk[1])\n",
    "k = int(ijk[2])\n",
    "\n",
    "def beautifulDays(i, j, k):\n",
    "    count = 0\n",
    "    for n in range(i,j+1):\n",
    "        if abs(n-int(str(n)[::-1]))%k==0 :\n",
    "            count+=1\n",
    "    return count\n",
    "\n",
    "beautifulDays(i, j, k)"
   ]
  },
  {
   "cell_type": "markdown",
   "metadata": {},
   "source": [
    "#### Find digits"
   ]
  },
  {
   "cell_type": "code",
   "execution_count": 133,
   "metadata": {},
   "outputs": [
    {
     "name": "stdin",
     "output_type": "stream",
     "text": [
      " 1012\n"
     ]
    },
    {
     "data": {
      "text/plain": [
       "3"
      ]
     },
     "execution_count": 133,
     "metadata": {},
     "output_type": "execute_result"
    }
   ],
   "source": [
    "import math\n",
    "import os\n",
    "import random\n",
    "import re\n",
    "import sys\n",
    "\n",
    "n = int(input())\n",
    "def findDigits(n):\n",
    "    count = 0\n",
    "    for i in range(len(str(n))):\n",
    "        if int(str(n)[i]) is not 0:\n",
    "            if n%int(str(n)[i])==0:\n",
    "                count+=1\n",
    "    return count\n",
    "\n",
    "findDigits(n)"
   ]
  },
  {
   "cell_type": "markdown",
   "metadata": {},
   "source": [
    "# "
   ]
  },
  {
   "cell_type": "markdown",
   "metadata": {},
   "source": [
    "#### Sub array"
   ]
  },
  {
   "cell_type": "code",
   "execution_count": 134,
   "metadata": {},
   "outputs": [
    {
     "name": "stdin",
     "output_type": "stream",
     "text": [
      " 5\n",
      " 1 2 1 3 2\n",
      " 3 2\n"
     ]
    },
    {
     "data": {
      "text/plain": [
       "0"
      ]
     },
     "execution_count": 134,
     "metadata": {},
     "output_type": "execute_result"
    }
   ],
   "source": [
    "import math\n",
    "import os\n",
    "import random\n",
    "import re\n",
    "import sys\n",
    "\n",
    "n = int(input().strip())\n",
    "s = list(map(int, input().rstrip().split()))\n",
    "dm = input().rstrip().split()\n",
    "d = int(dm[0])\n",
    "m = int(dm[1])\n",
    "\n",
    "def birthday(s, d, m):\n",
    "    count = 0\n",
    "    for i in range(len(s)-m):\n",
    "        if sum(s[i:(i+m-1)]) is d:\n",
    "            count+=1\n",
    "    return count\n",
    "\n",
    "birthday(s, d, m)"
   ]
  },
  {
   "cell_type": "code",
   "execution_count": 147,
   "metadata": {},
   "outputs": [
    {
     "data": {
      "text/plain": [
       "2"
      ]
     },
     "execution_count": 147,
     "metadata": {},
     "output_type": "execute_result"
    }
   ],
   "source": [
    "def birthday(s, d, m):\n",
    "    count = 0\n",
    "    for i in range(len(s)-m+1):\n",
    "        if sum(s[i:(i+m)]) is d:\n",
    "            count+=1\n",
    "    return count\n",
    "birthday(s, d, m)"
   ]
  },
  {
   "cell_type": "markdown",
   "metadata": {},
   "source": [
    "#### Counting Valleys"
   ]
  },
  {
   "cell_type": "code",
   "execution_count": 149,
   "metadata": {},
   "outputs": [
    {
     "name": "stdin",
     "output_type": "stream",
     "text": [
      " 8\n",
      " UDDDUDUU\n"
     ]
    },
    {
     "data": {
      "text/plain": [
       "1"
      ]
     },
     "execution_count": 149,
     "metadata": {},
     "output_type": "execute_result"
    }
   ],
   "source": [
    "import math\n",
    "import os\n",
    "import random\n",
    "import re\n",
    "import sys\n",
    "\n",
    "steps = int(input().strip())\n",
    "path = input()\n",
    "\n",
    "def countingValleys(steps, path):\n",
    "    h = 0\n",
    "    count = 0\n",
    "    for i in path:\n",
    "        if i is 'U':\n",
    "            h+=1\n",
    "        else:\n",
    "            h-=1\n",
    "        if h is 0 and i is 'U':\n",
    "            count+=1\n",
    "    return count\n",
    "    \n",
    "countingValleys(steps, path)"
   ]
  },
  {
   "cell_type": "markdown",
   "metadata": {},
   "source": [
    "### Sequence Equation"
   ]
  },
  {
   "cell_type": "code",
   "execution_count": 159,
   "metadata": {},
   "outputs": [
    {
     "name": "stdin",
     "output_type": "stream",
     "text": [
      " 5\n",
      " 4 3 5 1 2\n"
     ]
    },
    {
     "name": "stdout",
     "output_type": "stream",
     "text": [
      "1\n",
      "3\n",
      "5\n",
      "4\n",
      "2\n"
     ]
    }
   ],
   "source": [
    "import math\n",
    "import os\n",
    "import random\n",
    "import re\n",
    "import sys\n",
    "\n",
    "n = int(input())\n",
    "p = list(map(int, input().rstrip().split()))\n",
    "\n",
    "def permutationEquation(p):\n",
    "    \n",
    "    for x in range(1,len(p)+1):\n",
    "        print(p.index(int(p.index(x))+1)+1)  #return position+1 in p where p[i]=x, then return again\n",
    "permutationEquation(p)"
   ]
  },
  {
   "cell_type": "markdown",
   "metadata": {},
   "source": [
    "### Chocolate feast"
   ]
  },
  {
   "cell_type": "code",
   "execution_count": 166,
   "metadata": {},
   "outputs": [
    {
     "name": "stdin",
     "output_type": "stream",
     "text": [
      " 15 3 2\n"
     ]
    },
    {
     "name": "stdout",
     "output_type": "stream",
     "text": [
      "2 3 7\n",
      "1 2 8\n",
      "1 1 9\n"
     ]
    },
    {
     "data": {
      "text/plain": [
       "9"
      ]
     },
     "execution_count": 166,
     "metadata": {},
     "output_type": "execute_result"
    }
   ],
   "source": [
    "import math\n",
    "import os\n",
    "import random\n",
    "import re\n",
    "import sys\n",
    "\n",
    "ncm = input().split()\n",
    "n = int(ncm[0])\n",
    "c = int(ncm[1])\n",
    "m = int(ncm[2])\n",
    "\n",
    "def chocolateFeast(n, c, m):\n",
    "    bar = n//c\n",
    "    wrapper = bar\n",
    "    while wrapper >= m:\n",
    "        turnin = wrapper//m\n",
    "        wrapper = wrapper%m + turnin\n",
    "        bar += turnin\n",
    "        print(turnin,wrapper,bar)\n",
    "    return bar\n",
    "    \n",
    "chocolateFeast(n, c, m)"
   ]
  },
  {
   "cell_type": "markdown",
   "metadata": {},
   "source": [
    "### Cut the sticks"
   ]
  },
  {
   "cell_type": "code",
   "execution_count": 180,
   "metadata": {},
   "outputs": [
    {
     "name": "stdin",
     "output_type": "stream",
     "text": [
      " 8\n",
      " 8 8 14 10 3 5 14 12\n"
     ]
    },
    {
     "name": "stdout",
     "output_type": "stream",
     "text": [
      "3\n",
      "5\n",
      "8\n",
      "10\n",
      "12\n",
      "14\n"
     ]
    },
    {
     "data": {
      "text/plain": [
       "[8, 7, 6, 4, 3, 2, 0]"
      ]
     },
     "execution_count": 180,
     "metadata": {},
     "output_type": "execute_result"
    }
   ],
   "source": [
    "import math\n",
    "import os\n",
    "import random\n",
    "import re\n",
    "import sys\n",
    "\n",
    "n = int(input())\n",
    "arr = list(map(int, input().rstrip().split()))\n",
    "\n",
    "def cutTheSticks(arr):\n",
    "    length = []\n",
    "    while len(arr):\n",
    "        length.append(len(arr))\n",
    "        count_min = 0\n",
    "        m = min(arr)\n",
    "        arr = [i for i in arr if i is not m] #remove instances of value in arr\n",
    "    return length\n",
    " \n",
    "cutTheSticks(arr)"
   ]
  },
  {
   "cell_type": "code",
   "execution_count": 182,
   "metadata": {},
   "outputs": [
    {
     "name": "stdin",
     "output_type": "stream",
     "text": [
      " 8\n",
      " 8 8 14 10 3 5 14 12\n"
     ]
    },
    {
     "name": "stdout",
     "output_type": "stream",
     "text": [
      "8\n",
      "8\n",
      "7\n",
      "7\n",
      "6\n",
      "6\n",
      "4\n",
      "3\n",
      "2\n",
      "2\n"
     ]
    }
   ],
   "source": [
    "import math\n",
    "import os\n",
    "import random\n",
    "import re\n",
    "import sys\n",
    "\n",
    "n = int(input())\n",
    "\n",
    "arr = list(map(int, input().rstrip().split()))\n",
    "# Complete the cutTheSticks function below.\n",
    "\n",
    "while len(arr):\n",
    "    print(len(arr))\n",
    "    arr = [i - min(arr) for i in arr]\n",
    "    m = min(arr)\n",
    "    for i in range(arr.count(m)):\n",
    "        arr.remove(m)\n"
   ]
  },
  {
   "cell_type": "code",
   "execution_count": 183,
   "metadata": {},
   "outputs": [
    {
     "name": "stdin",
     "output_type": "stream",
     "text": [
      " 8\n",
      "  8 8 14 10 3 5 14 12\n"
     ]
    },
    {
     "name": "stdout",
     "output_type": "stream",
     "text": [
      "8\n",
      "7\n",
      "6\n",
      "4\n",
      "3\n",
      "2\n"
     ]
    }
   ],
   "source": [
    "import math\n",
    "import os\n",
    "import random\n",
    "import re\n",
    "import sys\n",
    "\n",
    "n = int(input())\n",
    "\n",
    "arr = list(map(int, input().rstrip().split()))\n",
    "# Complete the cutTheSticks function below.\n",
    "\n",
    "while len(arr):\n",
    "    print(len(arr))\n",
    "    arr = [i - min(arr) for i in arr] #minus by min value\n",
    "    arr = [i for i in arr if i is not min(arr)] #remove min value"
   ]
  },
  {
   "cell_type": "markdown",
   "metadata": {},
   "source": [
    "#### Sale by match"
   ]
  },
  {
   "cell_type": "code",
   "execution_count": 191,
   "metadata": {},
   "outputs": [
    {
     "name": "stdin",
     "output_type": "stream",
     "text": [
      " 9\n",
      " 10 20 20 10 10 30 50 10 20\n"
     ]
    },
    {
     "data": {
      "text/plain": [
       "3"
      ]
     },
     "execution_count": 191,
     "metadata": {},
     "output_type": "execute_result"
    }
   ],
   "source": [
    "import math\n",
    "import os\n",
    "import random\n",
    "import re\n",
    "import sys\n",
    "\n",
    "n = int(input())\n",
    "ar = list(map(int, input().rstrip().split()))\n",
    "\n",
    "def sockMerchant(n, ar):\n",
    "    countD = [ar.count(i) for i in set(ar)]\n",
    "    c = 0\n",
    "    for k in countD:\n",
    "        c+=k//2\n",
    "    return c\n",
    "\n",
    "sockMerchant(n, ar)"
   ]
  },
  {
   "cell_type": "markdown",
   "metadata": {},
   "source": [
    "#### Viral Ads"
   ]
  },
  {
   "cell_type": "code",
   "execution_count": 217,
   "metadata": {},
   "outputs": [
    {
     "name": "stdin",
     "output_type": "stream",
     "text": [
      " 3\n"
     ]
    },
    {
     "name": "stdout",
     "output_type": "stream",
     "text": [
      "0 6 3 5\n",
      "1 9 4 9\n"
     ]
    }
   ],
   "source": [
    "import math\n",
    "import os\n",
    "import random\n",
    "import re\n",
    "import sys\n",
    "\n",
    "n = int(input())\n",
    "\n",
    "def viralAdvertising(n):\n",
    "    s = 5\n",
    "    l = s//2\n",
    "    c = l\n",
    "    for i in range(n-1):\n",
    "        s = l * 3\n",
    "        l = s//2\n",
    "        c += s//2\n",
    "        print(i,s,l,c)\n",
    "viralAdvertising(n)"
   ]
  },
  {
   "cell_type": "code",
   "execution_count": null,
   "metadata": {},
   "outputs": [],
   "source": []
  },
  {
   "cell_type": "code",
   "execution_count": 216,
   "metadata": {},
   "outputs": [
    {
     "data": {
      "text/plain": [
       "1"
      ]
     },
     "execution_count": 216,
     "metadata": {},
     "output_type": "execute_result"
    }
   ],
   "source": [
    "3//2"
   ]
  },
  {
   "cell_type": "code",
   "execution_count": null,
   "metadata": {},
   "outputs": [],
   "source": []
  }
 ],
 "metadata": {
  "kernelspec": {
   "display_name": "Python 3",
   "language": "python",
   "name": "python3"
  },
  "language_info": {
   "codemirror_mode": {
    "name": "ipython",
    "version": 3
   },
   "file_extension": ".py",
   "mimetype": "text/x-python",
   "name": "python",
   "nbconvert_exporter": "python",
   "pygments_lexer": "ipython3",
   "version": "3.7.3"
  }
 },
 "nbformat": 4,
 "nbformat_minor": 4
}
