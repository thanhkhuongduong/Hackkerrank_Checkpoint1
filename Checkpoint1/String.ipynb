{
 "cells": [
  {
   "cell_type": "markdown",
   "metadata": {},
   "source": [
    "#### Stair cases"
   ]
  },
  {
   "cell_type": "code",
   "execution_count": 30,
   "metadata": {},
   "outputs": [
    {
     "name": "stdin",
     "output_type": "stream",
     "text": [
      " 3\n"
     ]
    },
    {
     "name": "stdout",
     "output_type": "stream",
     "text": [
      "  #\n",
      " ##\n",
      "###\n"
     ]
    }
   ],
   "source": [
    "#!/bin/python3\n",
    "import math\n",
    "import os\n",
    "import random\n",
    "import re\n",
    "import sys\n",
    "\n",
    "# Complete the staircase function below.\n",
    "def staircase(n):\n",
    "    for i in range(n):\n",
    "        space = ' '*(n-i-1)\n",
    "        shape =  '#'*(i+1)\n",
    "        string = space+shape\n",
    "        print(string)\n",
    "\n",
    "\n",
    "if __name__ == '__main__':\n",
    "    n = int(input())\n",
    "\n",
    "    staircase(n)\n"
   ]
  },
  {
   "cell_type": "markdown",
   "metadata": {},
   "source": [
    "## Mars"
   ]
  },
  {
   "cell_type": "code",
   "execution_count": 2,
   "metadata": {},
   "outputs": [
    {
     "name": "stdin",
     "output_type": "stream",
     "text": [
      " Soasos\n"
     ]
    },
    {
     "data": {
      "text/plain": [
       "1"
      ]
     },
     "execution_count": 2,
     "metadata": {},
     "output_type": "execute_result"
    }
   ],
   "source": [
    "import math\n",
    "import os\n",
    "import random\n",
    "import re\n",
    "import sys\n",
    "\n",
    "s = input()\n",
    "# Complete the marsExploration function below.\n",
    "def marsExploration(s):\n",
    "    count = 0\n",
    "    i = 0\n",
    "    while i <= (len(s)-3):\n",
    "        if s[i] not in ['S','s']:\n",
    "            count+=1\n",
    "        if s[i+1] not in ['O','o']:\n",
    "            count+=1\n",
    "        if s[i+2] not in ['S','s']:\n",
    "            count+=1\n",
    "        i+=3\n",
    "    return count\n",
    "\n",
    "marsExploration(s)    "
   ]
  },
  {
   "cell_type": "code",
   "execution_count": 8,
   "metadata": {},
   "outputs": [
    {
     "name": "stdout",
     "output_type": "stream",
     "text": [
      "0\n",
      "1\n",
      "0\n"
     ]
    }
   ],
   "source": [
    "#!/bin/python3\n",
    "\n",
    "import math\n",
    "import os\n",
    "import random\n",
    "import re\n",
    "import sys\n",
    "\n",
    "s = 'sos'\n",
    "# Complete the hackerrankInString function below.\n",
    "def hackerrankInString(s):\n",
    "    for i in s:\n",
    "        print (s.index(i))\n",
    "               \n",
    "hackerrankInString('sos')"
   ]
  },
  {
   "cell_type": "markdown",
   "metadata": {},
   "source": [
    "## Pangram"
   ]
  },
  {
   "cell_type": "code",
   "execution_count": 23,
   "metadata": {},
   "outputs": [
    {
     "name": "stdin",
     "output_type": "stream",
     "text": [
      " qmExzBIJmdELxyOFWv LOCmefk TwPhargKSPEqSxzveiun\n"
     ]
    },
    {
     "name": "stdout",
     "output_type": "stream",
     "text": [
      "not pangram\n"
     ]
    }
   ],
   "source": [
    "#!/bin/python3\n",
    "\n",
    "import math\n",
    "import os\n",
    "import random\n",
    "import re\n",
    "import sys\n",
    "\n",
    "s = input()\n",
    "# Complete the pangrams function below.\n",
    "def pangrams(s):\n",
    "    s_unique = s.replace(\" \", \"\")\n",
    "    s_unique = set(s_unique)\n",
    "    len_s_unique = len(s_unique)\n",
    "    if len_s_unique == 26:\n",
    "        print('pangram ')\n",
    "    else:\n",
    "        print('not pangram')\n",
    "pangrams(s)"
   ]
  },
  {
   "cell_type": "code",
   "execution_count": 27,
   "metadata": {},
   "outputs": [
    {
     "name": "stdin",
     "output_type": "stream",
     "text": [
      " qmExzBIJmdELxyOFWv LOCmefk TwPhargKSPEqSxzveiun\n"
     ]
    },
    {
     "data": {
      "text/plain": [
       "'pangram'"
      ]
     },
     "execution_count": 27,
     "metadata": {},
     "output_type": "execute_result"
    }
   ],
   "source": [
    "#!/bin/python3\n",
    "\n",
    "import math\n",
    "import os\n",
    "import random\n",
    "import re\n",
    "import sys\n",
    "\n",
    "s = input()\n",
    "# Complete the pangrams function below.\n",
    "def pangrams(s):\n",
    "    s_unique = s.replace(\" \", \"\")\n",
    "    s_unique = s_unique.lower()\n",
    "    s_unique = set(s_unique)\n",
    "    len_s_unique = len(s_unique)\n",
    "    if len_s_unique == 26:\n",
    "        return 'pangram'\n",
    "    else:\n",
    "        return 'not pangram'\n",
    "    \n",
    "pangrams(s)"
   ]
  },
  {
   "cell_type": "markdown",
   "metadata": {},
   "source": [
    "## Alternating chars"
   ]
  },
  {
   "cell_type": "code",
   "execution_count": 30,
   "metadata": {},
   "outputs": [
    {
     "name": "stdin",
     "output_type": "stream",
     "text": [
      " AAABBB\n"
     ]
    },
    {
     "data": {
      "text/plain": [
       "4"
      ]
     },
     "execution_count": 30,
     "metadata": {},
     "output_type": "execute_result"
    }
   ],
   "source": [
    "import math\n",
    "import os\n",
    "import random\n",
    "import re\n",
    "import sys\n",
    "\n",
    "s = input()\n",
    "# Complete the alternatingCharacters function below.\n",
    "def alternatingCharacters(s):\n",
    "    s_unique = s.lower()\n",
    "    s_unique = set(s_unique)\n",
    "    return len(s)-len(s_unique)\n",
    "alternatingCharacters(s)"
   ]
  },
  {
   "cell_type": "code",
   "execution_count": null,
   "metadata": {},
   "outputs": [],
   "source": []
  },
  {
   "cell_type": "code",
   "execution_count": 6,
   "metadata": {},
   "outputs": [
    {
     "name": "stdin",
     "output_type": "stream",
     "text": [
      " ABABABAA\n"
     ]
    },
    {
     "data": {
      "text/plain": [
       "1"
      ]
     },
     "execution_count": 6,
     "metadata": {},
     "output_type": "execute_result"
    }
   ],
   "source": [
    "import math\n",
    "import os\n",
    "import random\n",
    "import re\n",
    "import sys\n",
    "\n",
    "s = input()\n",
    "\n",
    "def alternatingCharacters(s):\n",
    "    s_beg = [match[1] for match in re.findall(r'((\\w)\\2{1,})', s)]\n",
    "    s_ful = [match[0] for match in re.findall(r'((\\w)\\2{1,})', s)]\n",
    "    len_beg = len(s_beg) #beginning chars of each repeated block\n",
    "    s_ful_join = ''.join(s_ful)\n",
    "    len_ful = len(s_ful_join) #chars of each repeated block\n",
    "    return len_ful-len_beg\n",
    "\n",
    "alternatingCharacters(s)"
   ]
  },
  {
   "cell_type": "markdown",
   "metadata": {},
   "source": [
    "## Beutiful strings"
   ]
  },
  {
   "cell_type": "code",
   "execution_count": 10,
   "metadata": {},
   "outputs": [
    {
     "name": "stdin",
     "output_type": "stream",
     "text": [
      " 01000010010\n"
     ]
    },
    {
     "data": {
      "text/plain": [
       "3"
      ]
     },
     "execution_count": 10,
     "metadata": {},
     "output_type": "execute_result"
    }
   ],
   "source": [
    "#!/bin/python3\n",
    "\n",
    "import math\n",
    "import os\n",
    "import random\n",
    "import re\n",
    "import sys\n",
    "\n",
    "b = input()\n",
    "\n",
    "# Complete the beautifulBinaryString function below.\n",
    "def beautifulBinaryString(b):\n",
    "    return len(re.findall(r'010',b))\n",
    "beautifulBinaryString(b)"
   ]
  },
  {
   "cell_type": "markdown",
   "metadata": {},
   "source": [
    "## Gemstones"
   ]
  },
  {
   "cell_type": "code",
   "execution_count": 25,
   "metadata": {},
   "outputs": [
    {
     "name": "stdin",
     "output_type": "stream",
     "text": [
      " 2\n",
      " assd\n",
      " adfg\n"
     ]
    },
    {
     "data": {
      "text/plain": [
       "2"
      ]
     },
     "execution_count": 25,
     "metadata": {},
     "output_type": "execute_result"
    }
   ],
   "source": [
    "#!/bin/python3\n",
    "\n",
    "import math\n",
    "import os\n",
    "import random\n",
    "import re\n",
    "import sys\n",
    "n = int(input())\n",
    "arr = []\n",
    "for _ in range(n):\n",
    "    arr_item = input()\n",
    "    arr.append(arr_item)\n",
    "#arr = input()\n",
    "# Complete the gemstones function below.\n",
    "def gemstones(arr):\n",
    "    s = ''\n",
    "    for i in range(len(arr)):\n",
    "        l_uniq = set(arr[i])\n",
    "        list_of_s = [s for s in l_uniq]\n",
    "        stri = ''.join(list_of_s)\n",
    "        s = s + stri #create a string of unique chars from all elements of original list\n",
    "    \n",
    "    count = 0\n",
    "    gem = ''\n",
    "    for k in s:\n",
    "        if s.count(k)==len(arr):\n",
    "            gem = gem + k\n",
    "    return len(set(gem))\n",
    "    \n",
    "gemstones(arr)"
   ]
  },
  {
   "cell_type": "markdown",
   "metadata": {},
   "source": [
    "## String Construction"
   ]
  },
  {
   "cell_type": "code",
   "execution_count": 1,
   "metadata": {},
   "outputs": [
    {
     "name": "stdin",
     "output_type": "stream",
     "text": [
      " asssd\n"
     ]
    },
    {
     "data": {
      "text/plain": [
       "3"
      ]
     },
     "execution_count": 1,
     "metadata": {},
     "output_type": "execute_result"
    }
   ],
   "source": [
    "import math\n",
    "import os\n",
    "import random\n",
    "import re\n",
    "import sys\n",
    "\n",
    "s = input()\n",
    "\n",
    "# Complete the stringConstruction function below.\n",
    "def stringConstruction(s):\n",
    "    return len(set(s))\n",
    "    \n",
    "stringConstruction(s)"
   ]
  },
  {
   "cell_type": "markdown",
   "metadata": {},
   "source": [
    "#### HackerRank in a String!"
   ]
  },
  {
   "cell_type": "code",
   "execution_count": 5,
   "metadata": {},
   "outputs": [
    {
     "name": "stdin",
     "output_type": "stream",
     "text": [
      " hackerworld\n"
     ]
    },
    {
     "data": {
      "text/plain": [
       "'NO'"
      ]
     },
     "execution_count": 5,
     "metadata": {},
     "output_type": "execute_result"
    }
   ],
   "source": [
    "import math\n",
    "import os\n",
    "import random\n",
    "import re\n",
    "import sys\n",
    "\n",
    "s = input()\n",
    "\n",
    "def hackerrankInString(s):\n",
    "    w = 'hackerrank'\n",
    "    c = 0\n",
    "    for i in s:\n",
    "        if i is w[c]:\n",
    "            c+=1\n",
    "            if c is len(w):\n",
    "                return 'YES'\n",
    "    return 'NO'\n",
    "\n",
    "hackerrankInString(s)"
   ]
  },
  {
   "cell_type": "markdown",
   "metadata": {},
   "source": [
    "#### Funny String"
   ]
  },
  {
   "cell_type": "code",
   "execution_count": null,
   "metadata": {},
   "outputs": [],
   "source": [
    "import math\n",
    "import os\n",
    "import random\n",
    "import re\n",
    "import sys\n",
    "\n",
    "s = input()\n",
    "\n",
    "def funnyString(s):\n",
    "    r = s[::-1]\n",
    "    value_s = [ord(i) for i in s]\n",
    "    value_r = [ord(i) for i in r]\n",
    "    ad_s = [abs(value_s[i]-value_s[i+1]) for i in range(len(value_s)-1)]\n",
    "    ad_r = [abs(value_r[i]-value_r[i+1]) for i in range(len(value_r)-1)]\n",
    "    if ad_s == ad_r:\n",
    "        return 'Funny'\n",
    "    else:\n",
    "        return 'Not Funny'\n",
    "        \n",
    "funnyString(s)"
   ]
  },
  {
   "cell_type": "code",
   "execution_count": 8,
   "metadata": {},
   "outputs": [
    {
     "data": {
      "text/plain": [
       "112"
      ]
     },
     "execution_count": 8,
     "metadata": {},
     "output_type": "execute_result"
    }
   ],
   "source": [
    "ord('p')"
   ]
  },
  {
   "cell_type": "markdown",
   "metadata": {},
   "source": [
    "#### The Love-Letter Mystery"
   ]
  },
  {
   "cell_type": "code",
   "execution_count": 51,
   "metadata": {},
   "outputs": [
    {
     "name": "stdin",
     "output_type": "stream",
     "text": [
      " bafhaef\n"
     ]
    },
    {
     "name": "stdout",
     "output_type": "stream",
     "text": [
      "[98, 97, 102, 104, 97, 101, 102] 297 300\n"
     ]
    }
   ],
   "source": [
    "import math\n",
    "import os\n",
    "import random\n",
    "import re\n",
    "import sys\n",
    "\n",
    "s = input()\n",
    "\n",
    "def theLoveLetterMystery(s):\n",
    "    arr = [ ord(i) for i in s ]\n",
    "    s1= 0\n",
    "    s2= 0\n",
    "    for i in range(len(arr)):\n",
    "        if len(arr)%2 == 0:\n",
    "            if i<(len(arr)//2):\n",
    "                s1 += arr[i]\n",
    "            else:\n",
    "                s2 += arr[i]\n",
    "        else:\n",
    "            if i<=(len(arr)//2)-1:\n",
    "                s1 += arr[i]\n",
    "            if i>=(len(arr)//2)+1:\n",
    "                s2 += arr[i]   \n",
    "    print( arr, s1, s2)\n",
    "            \n",
    "theLoveLetterMystery(s)"
   ]
  },
  {
   "cell_type": "code",
   "execution_count": 16,
   "metadata": {},
   "outputs": [
    {
     "data": {
      "text/plain": [
       "99"
      ]
     },
     "execution_count": 16,
     "metadata": {},
     "output_type": "execute_result"
    }
   ],
   "source": [
    "ord('c')"
   ]
  },
  {
   "cell_type": "code",
   "execution_count": 20,
   "metadata": {},
   "outputs": [
    {
     "data": {
      "text/plain": [
       "99"
      ]
     },
     "execution_count": 20,
     "metadata": {},
     "output_type": "execute_result"
    }
   ],
   "source": [
    "arr = [97, 98, 99, 100]\n",
    "arr[-2]"
   ]
  },
  {
   "cell_type": "code",
   "execution_count": 53,
   "metadata": {},
   "outputs": [
    {
     "name": "stdin",
     "output_type": "stream",
     "text": [
      " bafhaef\n"
     ]
    },
    {
     "data": {
      "text/plain": [
       "13"
      ]
     },
     "execution_count": 53,
     "metadata": {},
     "output_type": "execute_result"
    }
   ],
   "source": [
    "import math\n",
    "import os\n",
    "import random\n",
    "import re\n",
    "import sys\n",
    "\n",
    "s = input()\n",
    "\n",
    "def theLoveLetterMystery(s):\n",
    "    diff = 0\n",
    "    for i in range(len(s)//2):\n",
    "        diff += abs(ord(s[i]) - ord(s[len(s)-1-i])) #the symetric elements\n",
    "    return diff\n",
    "\n",
    "theLoveLetterMystery(s)"
   ]
  },
  {
   "cell_type": "markdown",
   "metadata": {},
   "source": [
    "#### Making Anagrams"
   ]
  },
  {
   "cell_type": "code",
   "execution_count": 69,
   "metadata": {},
   "outputs": [
    {
     "name": "stdin",
     "output_type": "stream",
     "text": [
      " cde\n",
      " abcc\n"
     ]
    },
    {
     "data": {
      "text/plain": [
       "5"
      ]
     },
     "execution_count": 69,
     "metadata": {},
     "output_type": "execute_result"
    }
   ],
   "source": [
    "import math\n",
    "import os\n",
    "import random\n",
    "import re\n",
    "import sys\n",
    "\n",
    "s1 = input()\n",
    "s2 = input()\n",
    "\n",
    "def makingAnagrams(s1, s2):\n",
    "    match = 0\n",
    "    for i in set(s1):\n",
    "        #Find nums of match elements to form anagrams\n",
    "        if i in s2 and s1.count(i) == s2.count(i):\n",
    "            match += (s1.count(i) + s2.count(i))\n",
    "        if i in s2 and s1.count(i) != s2.count(i):\n",
    "            match += min(s1.count(i),s2.count(i))*2\n",
    "    \n",
    "    return len(s1)+ len(s2) - match\n",
    "     \n",
    "            \n",
    "makingAnagrams(s1, s2)"
   ]
  },
  {
   "cell_type": "code",
   "execution_count": 77,
   "metadata": {},
   "outputs": [
    {
     "name": "stdin",
     "output_type": "stream",
     "text": [
      " abbbc\n",
      " adc\n"
     ]
    },
    {
     "data": {
      "text/plain": [
       "Counter({'b': 3})"
      ]
     },
     "execution_count": 77,
     "metadata": {},
     "output_type": "execute_result"
    }
   ],
   "source": [
    "from collections import Counter\n",
    "\n",
    "s1 = input()\n",
    "s2 = input()\n",
    "\n",
    "def makingAnagrams(s1, s2):\n",
    "    d1 = Counter(s1)\n",
    "    d2 = Counter(s2)\n",
    "    total = (d1-d2) \n",
    "    return sum(total.values())\n",
    "     \n",
    "            \n",
    "makingAnagrams(s1, s2)"
   ]
  },
  {
   "cell_type": "markdown",
   "metadata": {},
   "source": [
    "#### Seperate Numbers"
   ]
  },
  {
   "cell_type": "code",
   "execution_count": 79,
   "metadata": {},
   "outputs": [
    {
     "data": {
      "text/plain": [
       "'122'"
      ]
     },
     "execution_count": 79,
     "metadata": {},
     "output_type": "execute_result"
    }
   ],
   "source": [
    "s = '122345'\n",
    "s[:3]"
   ]
  },
  {
   "cell_type": "code",
   "execution_count": 90,
   "metadata": {},
   "outputs": [
    {
     "name": "stdin",
     "output_type": "stream",
     "text": [
      " 1232\n"
     ]
    },
    {
     "name": "stdout",
     "output_type": "stream",
     "text": [
      "NO\n"
     ]
    }
   ],
   "source": [
    "import math\n",
    "import os\n",
    "import random\n",
    "import re\n",
    "import sys\n",
    "\n",
    "s = input()\n",
    "\n",
    "def separateNumbers(s):\n",
    "    if len(s) is 1: #1 char cannot be splitted\n",
    "        print( 'NO')\n",
    "    else:\n",
    "        for i in range(1, len(s)//2 + 1):\n",
    "            news = s[:i]\n",
    "            prev = int(news)\n",
    "            \n",
    "            while len(news)<len(s):\n",
    "                nexts = prev + 1\n",
    "                news += str(nexts)\n",
    "                prev = nexts\n",
    "                \n",
    "            if news == s:\n",
    "                print('YES', s[:i])\n",
    "                return \n",
    "    \n",
    "        print('NO')\n",
    "    \n",
    "separateNumbers(s)"
   ]
  },
  {
   "cell_type": "markdown",
   "metadata": {},
   "source": [
    "#### Anagrams"
   ]
  },
  {
   "cell_type": "code",
   "execution_count": 99,
   "metadata": {},
   "outputs": [
    {
     "name": "stdin",
     "output_type": "stream",
     "text": [
      " abc\n"
     ]
    },
    {
     "data": {
      "text/plain": [
       "-1"
      ]
     },
     "execution_count": 99,
     "metadata": {},
     "output_type": "execute_result"
    }
   ],
   "source": [
    "import math\n",
    "import os\n",
    "import random\n",
    "import re\n",
    "import sys\n",
    "from collections import Counter\n",
    "\n",
    "s = input()\n",
    "\n",
    "def anagram(s):\n",
    "    if len(s)%2 is not 0:\n",
    "        return(-1)\n",
    "    else:\n",
    "        d1 = Counter(s[:(len(s)//2)])\n",
    "        d2 = Counter(s[(len(s)//2):])\n",
    "        s = sum((d1-d2).values())\n",
    "        return s\n",
    "\n",
    "anagram(s)"
   ]
  },
  {
   "cell_type": "code",
   "execution_count": null,
   "metadata": {},
   "outputs": [],
   "source": []
  }
 ],
 "metadata": {
  "kernelspec": {
   "display_name": "Python 3",
   "language": "python",
   "name": "python3"
  },
  "language_info": {
   "codemirror_mode": {
    "name": "ipython",
    "version": 3
   },
   "file_extension": ".py",
   "mimetype": "text/x-python",
   "name": "python",
   "nbconvert_exporter": "python",
   "pygments_lexer": "ipython3",
   "version": "3.7.3"
  }
 },
 "nbformat": 4,
 "nbformat_minor": 4
}
